{
 "cells": [
  {
   "cell_type": "markdown",
   "metadata": {},
   "source": [
    "#"
   ]
  },
  {
   "cell_type": "markdown",
   "metadata": {},
   "source": [
    "Advanced Pandas City Cemetary"
   ]
  },
  {
   "cell_type": "markdown",
   "metadata": {},
   "source": [
    "1. Read the City Cemetery data into a pandas DataFrame. Hint: see the read_excel function."
   ]
  },
  {
   "cell_type": "code",
   "execution_count": 1,
   "metadata": {},
   "outputs": [],
   "source": [
    "import pandas as pd\n",
    "import numpy as np\n",
    "import matplotlib.pyplot as plt\n",
    "import seaborn as sns"
   ]
  },
  {
   "cell_type": "code",
   "execution_count": 2,
   "metadata": {},
   "outputs": [],
   "source": [
    "cc_df = pd.read_excel(\"../data/Historic_Nashville_City_Cemetery_Interments__1846-1979.xlsx\")"
   ]
  },
  {
   "cell_type": "code",
   "execution_count": 3,
   "metadata": {},
   "outputs": [
    {
     "data": {
      "text/html": [
       "<div>\n",
       "<style scoped>\n",
       "    .dataframe tbody tr th:only-of-type {\n",
       "        vertical-align: middle;\n",
       "    }\n",
       "\n",
       "    .dataframe tbody tr th {\n",
       "        vertical-align: top;\n",
       "    }\n",
       "\n",
       "    .dataframe thead th {\n",
       "        text-align: right;\n",
       "    }\n",
       "</style>\n",
       "<table border=\"1\" class=\"dataframe\">\n",
       "  <thead>\n",
       "    <tr style=\"text-align: right;\">\n",
       "      <th></th>\n",
       "      <th>Volume</th>\n",
       "      <th>Name</th>\n",
       "      <th>Burial Month</th>\n",
       "      <th>Month No.</th>\n",
       "      <th>Burial Day</th>\n",
       "      <th>Burial Year</th>\n",
       "      <th>Sex</th>\n",
       "      <th>Race</th>\n",
       "      <th>Age</th>\n",
       "      <th>Residence</th>\n",
       "      <th>Cause of Death/Burial</th>\n",
       "      <th>Ave</th>\n",
       "      <th>Section/Lot</th>\n",
       "      <th>Remarks</th>\n",
       "    </tr>\n",
       "  </thead>\n",
       "  <tbody>\n",
       "    <tr>\n",
       "      <th>0</th>\n",
       "      <td>6B</td>\n",
       "      <td>Bell, Nancy Ann</td>\n",
       "      <td>Aug</td>\n",
       "      <td>8.0</td>\n",
       "      <td>6.0</td>\n",
       "      <td>1979.0</td>\n",
       "      <td>F</td>\n",
       "      <td>W</td>\n",
       "      <td>10.0</td>\n",
       "      <td>NaN</td>\n",
       "      <td>NaN</td>\n",
       "      <td>Oak</td>\n",
       "      <td>sec. 28 NW, lot 12</td>\n",
       "      <td>J. L. Hughes lot</td>\n",
       "    </tr>\n",
       "    <tr>\n",
       "      <th>1</th>\n",
       "      <td>6W</td>\n",
       "      <td>Drake, Mary Edith Smith, Mrs.</td>\n",
       "      <td>May</td>\n",
       "      <td>5.0</td>\n",
       "      <td>19.0</td>\n",
       "      <td>1979.0</td>\n",
       "      <td>F</td>\n",
       "      <td>W</td>\n",
       "      <td>67.0</td>\n",
       "      <td>Madison, Tenn</td>\n",
       "      <td>Cancer</td>\n",
       "      <td>Locust, Boyd Lot</td>\n",
       "      <td>lot 10</td>\n",
       "      <td>wife of Alex M. Drake, Madison Funeral Home Of...</td>\n",
       "    </tr>\n",
       "    <tr>\n",
       "      <th>2</th>\n",
       "      <td>6D</td>\n",
       "      <td>Davis, Bessie</td>\n",
       "      <td>Sep</td>\n",
       "      <td>9.0</td>\n",
       "      <td>19.0</td>\n",
       "      <td>1979.0</td>\n",
       "      <td>F</td>\n",
       "      <td>W</td>\n",
       "      <td>90.0</td>\n",
       "      <td>Nashville</td>\n",
       "      <td>Old Age</td>\n",
       "      <td>Poplar</td>\n",
       "      <td>McAllister, E25, lot 8</td>\n",
       "      <td>daughter of Helen Davis</td>\n",
       "    </tr>\n",
       "    <tr>\n",
       "      <th>3</th>\n",
       "      <td>6C</td>\n",
       "      <td>Creech, Emily Green</td>\n",
       "      <td>Aug</td>\n",
       "      <td>8.0</td>\n",
       "      <td>NaN</td>\n",
       "      <td>1978.0</td>\n",
       "      <td>F</td>\n",
       "      <td>W</td>\n",
       "      <td>91.0</td>\n",
       "      <td>Nashville</td>\n",
       "      <td>NaN</td>\n",
       "      <td>sect.ion 9</td>\n",
       "      <td>15</td>\n",
       "      <td>Magnolia</td>\n",
       "    </tr>\n",
       "    <tr>\n",
       "      <th>4</th>\n",
       "      <td>6W</td>\n",
       "      <td>Creech, Emily Green</td>\n",
       "      <td>Aug</td>\n",
       "      <td>8.0</td>\n",
       "      <td>NaN</td>\n",
       "      <td>1978.0</td>\n",
       "      <td>F</td>\n",
       "      <td>W</td>\n",
       "      <td>91.0</td>\n",
       "      <td>Nashville, Tennessee</td>\n",
       "      <td>NaN</td>\n",
       "      <td>NaN</td>\n",
       "      <td>NaN</td>\n",
       "      <td>Malgnolia</td>\n",
       "    </tr>\n",
       "    <tr>\n",
       "      <th>...</th>\n",
       "      <td>...</td>\n",
       "      <td>...</td>\n",
       "      <td>...</td>\n",
       "      <td>...</td>\n",
       "      <td>...</td>\n",
       "      <td>...</td>\n",
       "      <td>...</td>\n",
       "      <td>...</td>\n",
       "      <td>...</td>\n",
       "      <td>...</td>\n",
       "      <td>...</td>\n",
       "      <td>...</td>\n",
       "      <td>...</td>\n",
       "      <td>...</td>\n",
       "    </tr>\n",
       "    <tr>\n",
       "      <th>19740</th>\n",
       "      <td>4-1846</td>\n",
       "      <td>Kingsley, A., Capt.</td>\n",
       "      <td>Sep</td>\n",
       "      <td>9.0</td>\n",
       "      <td>28.0</td>\n",
       "      <td>1846.0</td>\n",
       "      <td>M</td>\n",
       "      <td>W</td>\n",
       "      <td>67.0</td>\n",
       "      <td>City</td>\n",
       "      <td>Feever</td>\n",
       "      <td>Cedar</td>\n",
       "      <td>lot</td>\n",
       "      <td>superintendent of Nashville Cemetery</td>\n",
       "    </tr>\n",
       "    <tr>\n",
       "      <th>19741</th>\n",
       "      <td>4-1846</td>\n",
       "      <td>infant</td>\n",
       "      <td>Sep</td>\n",
       "      <td>9.0</td>\n",
       "      <td>28.0</td>\n",
       "      <td>1846.0</td>\n",
       "      <td>M</td>\n",
       "      <td>W</td>\n",
       "      <td>NaN</td>\n",
       "      <td>City</td>\n",
       "      <td>Diarherea</td>\n",
       "      <td>Central</td>\n",
       "      <td>lot</td>\n",
       "      <td>son of John Bateman</td>\n",
       "    </tr>\n",
       "    <tr>\n",
       "      <th>19742</th>\n",
       "      <td>4-1846</td>\n",
       "      <td>White, Lucinda</td>\n",
       "      <td>Sep</td>\n",
       "      <td>9.0</td>\n",
       "      <td>29.0</td>\n",
       "      <td>1846.0</td>\n",
       "      <td>F</td>\n",
       "      <td>W</td>\n",
       "      <td>25.0</td>\n",
       "      <td>City</td>\n",
       "      <td>Consumption</td>\n",
       "      <td>Central</td>\n",
       "      <td>200</td>\n",
       "      <td>Fees to be paid by M. Jennings</td>\n",
       "    </tr>\n",
       "    <tr>\n",
       "      <th>19743</th>\n",
       "      <td>5-1881</td>\n",
       "      <td>Higgins, Rebecca</td>\n",
       "      <td>Apr</td>\n",
       "      <td>4.0</td>\n",
       "      <td>10.0</td>\n",
       "      <td>NaN</td>\n",
       "      <td>F</td>\n",
       "      <td>W</td>\n",
       "      <td>68.0</td>\n",
       "      <td>City</td>\n",
       "      <td>Heart Disease</td>\n",
       "      <td>Cherry</td>\n",
       "      <td>lot</td>\n",
       "      <td>box paid, grave on lot</td>\n",
       "    </tr>\n",
       "    <tr>\n",
       "      <th>19744</th>\n",
       "      <td>5-1881</td>\n",
       "      <td>Eves, R.</td>\n",
       "      <td>Apr</td>\n",
       "      <td>4.0</td>\n",
       "      <td>25.0</td>\n",
       "      <td>NaN</td>\n",
       "      <td>M</td>\n",
       "      <td>W.</td>\n",
       "      <td>54.0</td>\n",
       "      <td>City</td>\n",
       "      <td>Heart Disease</td>\n",
       "      <td>Magnolia</td>\n",
       "      <td>lot</td>\n",
       "      <td>box paid, grave on lot</td>\n",
       "    </tr>\n",
       "  </tbody>\n",
       "</table>\n",
       "<p>19745 rows × 14 columns</p>\n",
       "</div>"
      ],
      "text/plain": [
       "       Volume                           Name Burial Month  Month No.  \\\n",
       "0          6B                Bell, Nancy Ann          Aug        8.0   \n",
       "1          6W  Drake, Mary Edith Smith, Mrs.          May        5.0   \n",
       "2          6D                  Davis, Bessie          Sep        9.0   \n",
       "3          6C            Creech, Emily Green          Aug        8.0   \n",
       "4          6W            Creech, Emily Green          Aug        8.0   \n",
       "...       ...                            ...          ...        ...   \n",
       "19740  4-1846            Kingsley, A., Capt.          Sep        9.0   \n",
       "19741  4-1846                         infant          Sep        9.0   \n",
       "19742  4-1846                 White, Lucinda          Sep        9.0   \n",
       "19743  5-1881               Higgins, Rebecca          Apr        4.0   \n",
       "19744  5-1881                       Eves, R.          Apr        4.0   \n",
       "\n",
       "       Burial Day  Burial Year Sex Race   Age             Residence  \\\n",
       "0             6.0       1979.0   F    W  10.0                   NaN   \n",
       "1            19.0       1979.0   F    W  67.0         Madison, Tenn   \n",
       "2            19.0       1979.0   F    W  90.0             Nashville   \n",
       "3             NaN       1978.0   F    W  91.0             Nashville   \n",
       "4             NaN       1978.0   F    W  91.0  Nashville, Tennessee   \n",
       "...           ...          ...  ..  ...   ...                   ...   \n",
       "19740        28.0       1846.0   M    W  67.0                  City   \n",
       "19741        28.0       1846.0   M    W   NaN                  City   \n",
       "19742        29.0       1846.0   F    W  25.0                  City   \n",
       "19743        10.0          NaN   F    W  68.0                  City   \n",
       "19744        25.0          NaN   M   W.  54.0                  City   \n",
       "\n",
       "      Cause of Death/Burial               Ave             Section/Lot  \\\n",
       "0                       NaN               Oak      sec. 28 NW, lot 12   \n",
       "1                    Cancer  Locust, Boyd Lot                  lot 10   \n",
       "2                   Old Age            Poplar  McAllister, E25, lot 8   \n",
       "3                       NaN        sect.ion 9                      15   \n",
       "4                       NaN               NaN                     NaN   \n",
       "...                     ...               ...                     ...   \n",
       "19740                Feever             Cedar                     lot   \n",
       "19741             Diarherea           Central                     lot   \n",
       "19742           Consumption           Central                     200   \n",
       "19743         Heart Disease            Cherry                     lot   \n",
       "19744         Heart Disease          Magnolia                     lot   \n",
       "\n",
       "                                                 Remarks  \n",
       "0                                       J. L. Hughes lot  \n",
       "1      wife of Alex M. Drake, Madison Funeral Home Of...  \n",
       "2                                daughter of Helen Davis  \n",
       "3                                               Magnolia  \n",
       "4                                              Malgnolia  \n",
       "...                                                  ...  \n",
       "19740               superintendent of Nashville Cemetery  \n",
       "19741                                son of John Bateman  \n",
       "19742                     Fees to be paid by M. Jennings  \n",
       "19743                             box paid, grave on lot  \n",
       "19744                             box paid, grave on lot  \n",
       "\n",
       "[19745 rows x 14 columns]"
      ]
     },
     "execution_count": 3,
     "metadata": {},
     "output_type": "execute_result"
    }
   ],
   "source": [
    "cc_df"
   ]
  },
  {
   "cell_type": "markdown",
   "metadata": {},
   "source": [
    "2. Most Common Causes of Death."
   ]
  },
  {
   "cell_type": "markdown",
   "metadata": {},
   "source": [
    "a. Find the 10 most common (known) recorded causes of death."
   ]
  },
  {
   "cell_type": "code",
   "execution_count": 4,
   "metadata": {},
   "outputs": [
    {
     "data": {
      "text/plain": [
       "Cause of Death/Burial\n",
       "Consumption     1767\n",
       "Still Born       841\n",
       "Cholrea          667\n",
       "Old Age          604\n",
       "Cholera          575\n",
       "Pneumonia        516\n",
       "Flux             469\n",
       "Complication     446\n",
       "Cold             421\n",
       "Teething         411\n",
       "Name: count, dtype: int64"
      ]
     },
     "execution_count": 4,
     "metadata": {},
     "output_type": "execute_result"
    }
   ],
   "source": [
    "kn_df = cc_df[~cc_df['Cause of Death/Burial'].isin(['Unknown', 'Not Known'])]\n",
    "kn_df['Cause of Death/Burial'].value_counts().head(10)"
   ]
  },
  {
   "cell_type": "markdown",
   "metadata": {},
   "source": [
    "b. Clean up some of the misspellings. Use the replace method to clean up some of the causes of death. For example, replace \"Cholrea\" with \"Cholera\" and \"Still Born\" with \"Stillborn\"."
   ]
  },
  {
   "cell_type": "code",
   "execution_count": 5,
   "metadata": {},
   "outputs": [
    {
     "data": {
      "text/plain": [
       "Cause of Death/Burial\n",
       "Consumption      1767\n",
       "Cholera          1242\n",
       "Stillborn         926\n",
       "Old Age           604\n",
       "Pneumonia         516\n",
       "Flux              469\n",
       "Complication      446\n",
       "Cold              421\n",
       "Teething          411\n",
       "Typhoid Fever     310\n",
       "Name: count, dtype: int64"
      ]
     },
     "execution_count": 5,
     "metadata": {},
     "output_type": "execute_result"
    }
   ],
   "source": [
    "kn_df = kn_df.replace('Cholrea', 'Cholera').replace('Still Born', 'Stillborn')\n",
    "kn_df['Cause of Death/Burial'].value_counts().head(10)"
   ]
  },
  {
   "cell_type": "markdown",
   "metadata": {},
   "source": [
    "c. After correcting the spellings, find the 10 most common causes of death and create a bar chart to display your findings."
   ]
  },
  {
   "cell_type": "code",
   "execution_count": 6,
   "metadata": {},
   "outputs": [],
   "source": [
    "top_df = kn_df['Cause of Death/Burial'].value_counts().head(10)"
   ]
  },
  {
   "cell_type": "code",
   "execution_count": 8,
   "metadata": {},
   "outputs": [
    {
     "data": {
      "text/plain": [
       "<Axes: xlabel='Cause of Death/Burial'>"
      ]
     },
     "execution_count": 8,
     "metadata": {},
     "output_type": "execute_result"
    },
    {
     "data": {
      "image/png": "[encoded data removed]",
      "text/plain": [
       "<Figure size 640x480 with 1 Axes>"
      ]
     },
     "metadata": {},
     "output_type": "display_data"
    }
   ],
   "source": [
    "top_df.plot(kind='bar')"
   ]
  },
  {
   "cell_type": "markdown",
   "metadata": {},
   "source": [
    "3. Create a line chart showing the number of burials per year."
   ]
  },
  {
   "cell_type": "code",
   "execution_count": 12,
   "metadata": {},
   "outputs": [
    {
     "data": {
      "text/plain": [
       "<Axes: xlabel='Burial Year'>"
      ]
     },
     "execution_count": 12,
     "metadata": {},
     "output_type": "execute_result"
    },
    {
     "data": {
      "image/png": "[encoded data removed]",
      "text/plain": [
       "<Figure size 640x480 with 1 Axes>"
      ]
     },
     "metadata": {},
     "output_type": "display_data"
    }
   ],
   "source": [
    "ln_df =  cc_df['Burial Year'].value_counts().sort_index()\n",
    "ln_df.plot(kind='line')"
   ]
  },
  {
   "cell_type": "code",
   "execution_count": null,
   "metadata": {},
   "outputs": [],
   "source": []
  }
 ],
 "metadata": {
  "kernelspec": {
   "display_name": "base",
   "language": "python",
   "name": "python3"
  },
  "language_info": {
   "codemirror_mode": {
    "name": "ipython",
    "version": 3
   },
   "file_extension": ".py",
   "mimetype": "text/x-python",
   "name": "python",
   "nbconvert_exporter": "python",
   "pygments_lexer": "ipython3",
   "version": "3.11.5"
  }
 },
 "nbformat": 4,
 "nbformat_minor": 2
}
